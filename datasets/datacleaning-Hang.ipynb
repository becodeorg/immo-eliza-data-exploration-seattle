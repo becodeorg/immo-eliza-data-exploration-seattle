{
 "cells": [
  {
   "cell_type": "code",
   "execution_count": null,
   "id": "51c2832e",
   "metadata": {},
   "outputs": [],
   "source": [
    "import pandas as pd\n",
    "import numpy as np\n",
    "import seaborn as sns\n",
    "import matplotlib.pyplot as plt"
   ]
  },
  {
   "cell_type": "code",
   "execution_count": null,
   "id": "37ed2a46",
   "metadata": {},
   "outputs": [],
   "source": [
    "df = pd.read_csv('Kangaroo.csv') # Load a CSV"
   ]
  },
  {
   "cell_type": "code",
   "execution_count": null,
   "id": "350a172f",
   "metadata": {},
   "outputs": [],
   "source": [
    "df.head()"
   ]
  },
  {
   "cell_type": "code",
   "execution_count": null,
   "id": "29cc1d74",
   "metadata": {},
   "outputs": [],
   "source": [
    "df.shape"
   ]
  },
  {
   "cell_type": "code",
   "execution_count": null,
   "id": "be7ae75d",
   "metadata": {},
   "outputs": [],
   "source": [
    "df.columns\n"
   ]
  },
  {
   "cell_type": "code",
   "execution_count": null,
   "id": "cef708d3",
   "metadata": {},
   "outputs": [],
   "source": [
    "df_columns = df.columns.tolist()\n",
    "df_columns"
   ]
  },
  {
   "cell_type": "code",
   "execution_count": null,
   "id": "13eca70b",
   "metadata": {},
   "outputs": [],
   "source": [
    "df.info() # Summary info of the data"
   ]
  },
  {
   "cell_type": "code",
   "execution_count": null,
   "id": "275d4a6f",
   "metadata": {},
   "outputs": [],
   "source": [
    "# Check for missing values\n",
    "df.isnull().sum()"
   ]
  },
  {
   "cell_type": "markdown",
   "id": "e14ad574",
   "metadata": {},
   "source": [
    "### sumary\n",
    "- Shape: 80,368 x 53\n",
    "- Some columns are likely unnecessary: url, id?, unnamed, \n",
    "- Many columns misses a lot information:\n",
    "100%: monthlyCost, hasBalcony, accessibleDisabledPeople"
   ]
  },
  {
   "cell_type": "markdown",
   "id": "f94f81fe",
   "metadata": {},
   "source": [
    "## Data cleaning\n",
    "1. Remove duplicate : No duplicates in data set\n",
    "2. Remove irrelevant columns: URL, Unnamed:0, \n",
    "3. Remove columns missing a lot info\n"
   ]
  },
  {
   "cell_type": "code",
   "execution_count": null,
   "id": "2babc9a8",
   "metadata": {},
   "outputs": [],
   "source": [
    "df.duplicated().sum() # Check for duplicate rows\n"
   ]
  },
  {
   "cell_type": "code",
   "execution_count": null,
   "id": "0e27f2de",
   "metadata": {},
   "outputs": [],
   "source": [
    "# 1. Drop duplicates\n",
    "#df_cleaned = df.drop_duplicates()\n",
    "#df_cleaned.shape"
   ]
  },
  {
   "cell_type": "code",
   "execution_count": null,
   "id": "63a8ac8e",
   "metadata": {},
   "outputs": [],
   "source": [
    "# 2. Drop irrelevant columns\n",
    "df_cleaned = df.drop(columns=[\"Unnamed: 0\", \"url\"])\n",
    "df_cleaned.shape\n",
    "df_cleaned.head()\n"
   ]
  },
  {
   "cell_type": "code",
   "execution_count": null,
   "id": "49aaca86",
   "metadata": {},
   "outputs": [],
   "source": [
    "#3. Trim Whitespace in Strings\n",
    "\n",
    "str_cols = df_cleaned.select_dtypes(include='object').columns #Selects columns that are of type string or mixed object\n",
    "for col in str_cols:\n",
    "    df_cleaned[col] = df_cleaned[col].apply(lambda x: x.strip() if isinstance(x, str) else x)\n",
    "\n",
    "df_cleaned.describe(include='all') # Summary statistics of the data\n",
    "\n"
   ]
  },
  {
   "cell_type": "code",
   "execution_count": null,
   "id": "5b17fcef",
   "metadata": {},
   "outputs": [],
   "source": [
    "# check for missing values \n",
    "#  Percentage of missing values\n",
    "missing_percent = df_cleaned.isnull().mean().sort_values(ascending=False) * 100\n",
    "missing_percent"
   ]
  },
  {
   "cell_type": "code",
   "execution_count": null,
   "id": "c61626bf",
   "metadata": {},
   "outputs": [],
   "source": [
    "# 4. Handle Missing Values\n",
    "# Drop columns with over 70% missing\n",
    "df_cleaned = df_cleaned.drop(columns=missing_percent[missing_percent > 70].index)\n",
    "\n"
   ]
  },
  {
   "cell_type": "code",
   "execution_count": null,
   "id": "3f102608",
   "metadata": {},
   "outputs": [],
   "source": [
    "df_cleaned.head()"
   ]
  },
  {
   "cell_type": "code",
   "execution_count": null,
   "id": "e93e9cec",
   "metadata": {},
   "outputs": [],
   "source": [
    "df_cleaned.isnull().mean().sort_values(ascending=False) * 100"
   ]
  },
  {
   "cell_type": "code",
   "execution_count": null,
   "id": "f2cff952",
   "metadata": {},
   "outputs": [],
   "source": [
    "df_cleaned.columns.tolist()"
   ]
  },
  {
   "cell_type": "markdown",
   "id": "12f1c4fb",
   "metadata": {},
   "source": [
    "### 2. Data Analysis\n",
    "- Linear correlation: "
   ]
  },
  {
   "cell_type": "code",
   "execution_count": null,
   "id": "76f3a232",
   "metadata": {},
   "outputs": [],
   "source": [
    "df_cleaned.shape"
   ]
  },
  {
   "cell_type": "code",
   "execution_count": null,
   "id": "f6853fa8",
   "metadata": {},
   "outputs": [],
   "source": [
    "# Compute Pearson correlation of every numeric column with price\n",
    "corr_with_price = df_cleaned.corr(numeric_only=True)['price'].sort_values(ascending=False)\n",
    "\n",
    "# View top positive and negative correlations\n",
    "print(\"Top positive correlations:\\n\", corr_with_price.head(10))\n",
    "print(\"\\nTop negative correlations:\\n\", corr_with_price.tail(10))"
   ]
  },
  {
   "cell_type": "code",
   "execution_count": null,
   "id": "4b12fb23",
   "metadata": {},
   "outputs": [],
   "source": [
    "numeric_df = df_cleaned.select_dtypes(include=[np.number])\n",
    "\n",
    "# 2) Compute the correlation matrix\n",
    "corr_matrix = numeric_df.corr()"
   ]
  },
  {
   "cell_type": "code",
   "execution_count": null,
   "id": "f64b5bcd",
   "metadata": {},
   "outputs": [],
   "source": [
    "fig, ax = plt.subplots(figsize=(20,16))\n",
    "cax = ax.matshow(corr_matrix.values, cmap='coolwarm', vmin=-1, vmax=1)\n",
    "fig.colorbar(cax, shrink=0.8)\n",
    "\n",
    "# tick labels\n",
    "ticks = np.arange(len(corr_matrix.columns))\n",
    "ax.set_xticks(ticks)\n",
    "ax.set_yticks(ticks)\n",
    "ax.set_xticklabels(corr_matrix.columns, rotation=90)\n",
    "ax.set_yticklabels(corr_matrix.columns)\n",
    "\n",
    "# manual annotation loop\n",
    "for (i, j), val in np.ndenumerate(corr_matrix.values):\n",
    "    ax.text(j, i, f\"{val:.2f}\", ha='center', va='center', fontsize=7)\n",
    "\n",
    "plt.title(\"Fully Annotated Correlation Matrix\", pad=20)\n",
    "plt.tight_layout()\n",
    "plt.show()"
   ]
  },
  {
   "cell_type": "code",
   "execution_count": null,
   "id": "9a482b80",
   "metadata": {},
   "outputs": [],
   "source": [
    "most_influential = corr_with_price.abs().sort_values(ascending=False).index[1:6]\n",
    "least_influential = corr_with_price.abs().sort_values(ascending=True).index[:5]\n",
    "\n",
    "print(\"Top 5 most influential:\", most_influential.tolist())\n",
    "print(\"Top 5 least influential:\", least_influential.tolist())"
   ]
  },
  {
   "cell_type": "code",
   "execution_count": null,
   "id": "d369bac3",
   "metadata": {},
   "outputs": [],
   "source": [
    "# Quantitative = numeric types\n",
    "quant_cols = df_cleaned.select_dtypes(include=['number']).columns.tolist()\n",
    "# Qualitative = object / category types\n",
    "qual_cols = df_cleaned.select_dtypes(include=['object', 'category']).columns.tolist()\n",
    "\n",
    "print(f\"Quantitative ({len(quant_cols)}): {quant_cols}\")\n",
    "print(f\"Qualitative ({len(qual_cols)}): {qual_cols}\")"
   ]
  },
  {
   "cell_type": "code",
   "execution_count": null,
   "id": "d72a6e4b",
   "metadata": {},
   "outputs": [],
   "source": [
    "missing_count = df_cleaned.isnull().sum()\n",
    "missing_pct   = (missing_count / len(df_cleaned) * 100).round(2)\n",
    "\n",
    "missing_summary = pd.DataFrame({\n",
    "    'missing_count': missing_count,\n",
    "    'missing_pct'  : missing_pct\n",
    "}).sort_values('missing_pct', ascending=False)\n",
    "\n",
    "print(missing_summary.head(10))  # top 10 most-missing"
   ]
  },
  {
   "cell_type": "code",
   "execution_count": null,
   "id": "1d6b6bb7",
   "metadata": {},
   "outputs": [],
   "source": [
    "#Histogram of price\n",
    "plt.hist(df_cleaned['price'], bins=50)\n",
    "plt.title(\"Price Distribution\")\n",
    "plt.xlabel(\"Price\")\n",
    "plt.ylabel(\"Count\")\n",
    "plt.show()"
   ]
  },
  {
   "cell_type": "code",
   "execution_count": null,
   "id": "bc3201f8",
   "metadata": {},
   "outputs": [],
   "source": [
    "# Scatter price vs. habitableSurface\n",
    "plt.scatter(df_cleaned['habitableSurface'], df_cleaned['price'], alpha=0.3)\n",
    "plt.title(\"Price vs. Habitable Surface\")\n",
    "plt.xlabel(\"Surface (m²)\")\n",
    "plt.ylabel(\"Price\")\n",
    "plt.show()"
   ]
  },
  {
   "cell_type": "code",
   "execution_count": null,
   "id": "e107f3d1",
   "metadata": {},
   "outputs": [],
   "source": [
    "#Boxplot to spot outliers in price by province\n",
    "sns.boxplot(x='province', y='price', data=df_cleaned)\n",
    "plt.xticks(rotation=45)\n",
    "plt.title(\"Price by Province\")\n",
    "plt.show()"
   ]
  },
  {
   "cell_type": "markdown",
   "id": "bd6fc124",
   "metadata": {},
   "source": [
    "### Non-linear correlation\n",
    "- Spearman Rank Correlation"
   ]
  },
  {
   "cell_type": "code",
   "execution_count": null,
   "id": "0b37e06d",
   "metadata": {},
   "outputs": [],
   "source": [
    "df_cleaned.corr(method='spearman')['price'].sort_values(ascending=False)"
   ]
  },
  {
   "cell_type": "code",
   "execution_count": null,
   "id": "cfcb9569",
   "metadata": {},
   "outputs": [],
   "source": [
    "spearman_corr = numeric_df.corr(method='spearman')\n",
    "spearman_price_corr = spearman_corr['price'].drop('price').sort_values(ascending=False)\n",
    "\n",
    "# Visualize\n",
    "plt.figure(figsize=(10, 6))\n",
    "sns.barplot(x=spearman_price_corr.values, y=spearman_price_corr.index, palette='viridis')\n",
    "plt.title(\"Spearman Correlation with Price\")\n",
    "plt.xlabel(\"Spearman correlation coefficient\")\n",
    "plt.tight_layout()\n",
    "plt.show()"
   ]
  },
  {
   "cell_type": "code",
   "execution_count": null,
   "id": "7aaf1be4",
   "metadata": {},
   "outputs": [],
   "source": [
    "#Scatterplots for Visual Inspection\n",
    "# For a few features (pick ones with low Pearson but possible importance)\n",
    "features_to_check = ['buildingConstructionYear', 'terraceSurface', 'landSurface']\n",
    "\n",
    "for feature in features_to_check:\n",
    "    plt.figure(figsize=(6, 4))\n",
    "    sns.scatterplot(x=numeric_df[feature], y=numeric_df['price'])\n",
    "    plt.title(f\"Scatterplot: {feature} vs Price\")\n",
    "    plt.xlabel(feature)\n",
    "    plt.ylabel('Price')\n",
    "    plt.tight_layout()\n",
    "    plt.show()"
   ]
  },
  {
   "cell_type": "code",
   "execution_count": null,
   "id": "35058089",
   "metadata": {},
   "outputs": [],
   "source": [
    "df_cleaned['bedroomCount'].value_counts()\n",
    "#df.iloc[[df['bedroomCount'].idxmax()]]"
   ]
  },
  {
   "cell_type": "code",
   "execution_count": null,
   "id": "1b56f9bb",
   "metadata": {},
   "outputs": [],
   "source": [
    "df_cleaned['bathroomCount'].value_counts()\n",
    "\n"
   ]
  },
  {
   "cell_type": "code",
   "execution_count": null,
   "id": "284dae97",
   "metadata": {},
   "outputs": [],
   "source": [
    "df_cleaned.iloc[[df_cleaned['bathroomCount'].idxmax()]]"
   ]
  },
  {
   "cell_type": "code",
   "execution_count": null,
   "id": "c3357427",
   "metadata": {},
   "outputs": [],
   "source": []
  }
 ],
 "metadata": {
  "kernelspec": {
   "display_name": "base",
   "language": "python",
   "name": "python3"
  },
  "language_info": {
   "codemirror_mode": {
    "name": "ipython",
    "version": 3
   },
   "file_extension": ".py",
   "mimetype": "text/x-python",
   "name": "python",
   "nbconvert_exporter": "python",
   "pygments_lexer": "ipython3",
   "version": "3.11.7"
  }
 },
 "nbformat": 4,
 "nbformat_minor": 5
}

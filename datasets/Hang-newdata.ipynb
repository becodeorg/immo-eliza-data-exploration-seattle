{
 "cells": [
  {
   "cell_type": "code",
   "execution_count": null,
   "id": "e4355968",
   "metadata": {},
   "outputs": [],
   "source": [
    "import pandas as pd\n",
    "import numpy as np\n",
    "import seaborn as sns\n",
    "import matplotlib.pyplot as plt"
   ]
  },
  {
   "cell_type": "code",
   "execution_count": null,
   "id": "b8d3ad62",
   "metadata": {},
   "outputs": [],
   "source": [
    "df = pd.read_csv('Kangaroo.csv')"
   ]
  },
  {
   "cell_type": "code",
   "execution_count": null,
   "id": "c41d09ce",
   "metadata": {},
   "outputs": [],
   "source": [
    "df_cleaned = df.drop(columns=[\"Unnamed: 0\", \"url\"])\n",
    "str_cols = df_cleaned.select_dtypes(include='object').columns #Selects columns that are of type string or mixed object\n",
    "for col in str_cols:\n",
    "    df_cleaned[col] = df_cleaned[col].apply(lambda x: x.strip() if isinstance(x, str) else x)\n",
    "\n",
    "df_cleaned.describe(include='all') # Summary statistics of the data\n"
   ]
  },
  {
   "cell_type": "code",
   "execution_count": null,
   "id": "aec949fa",
   "metadata": {},
   "outputs": [],
   "source": [
    "#  Percentage of missing values\n",
    "missing_percent = df_cleaned.isnull().mean().sort_values(ascending=False) * 100\n",
    "missing_percent"
   ]
  },
  {
   "cell_type": "markdown",
   "id": "36a2063e",
   "metadata": {},
   "source": [
    "Notes: There are some columns having high percentages of missing values, but maybe important (NEED TO CONSIDER): swimming pool, "
   ]
  },
  {
   "cell_type": "markdown",
   "id": "1918067c",
   "metadata": {},
   "source": [
    "### How to Decide: Keep or Drop the swimmingPool Column?\n",
    "1. Missing values: 97.740394\n",
    "2. Filter the top 10% most expensive houses\n",
    "3. Do Spearman correlation\n",
    "4. Compare Mean Price: compare average price for properties with and without a swimming pool\n",
    "5. Test Statistical Significance: if p_value < 0.05, then the price difference is statistically significant → keep the feature.\n",
    "Conclusion: should keep it\n",
    "\n",
    "\n"
   ]
  },
  {
   "cell_type": "markdown",
   "id": "e39c49f1",
   "metadata": {},
   "source": [
    "### Filter the top 10% most expensive houses:\n",
    "\n",
    "Selects the top 10% most expensive properties (based on the 90th percentile of price).\n",
    "\n",
    "Counts how many of those have hasSwimmingPool = True, and how many are missing (NaN).\n",
    "\n"
   ]
  },
  {
   "cell_type": "code",
   "execution_count": null,
   "id": "a135a116",
   "metadata": {},
   "outputs": [],
   "source": [
    "#Filter the top 10% most expensive houses:\n",
    "top_10 = df_cleaned[df['price'] >= df_cleaned['price'].quantile(0.90)]\n",
    "top_10['hasSwimmingPool'].value_counts(dropna=False)"
   ]
  },
  {
   "cell_type": "markdown",
   "id": "d3bab08b",
   "metadata": {},
   "source": [
    "### Do Spearman correlation"
   ]
  },
  {
   "cell_type": "code",
   "execution_count": null,
   "id": "773c6d15",
   "metadata": {},
   "outputs": [],
   "source": [
    "df_cleaned['hasSwimmingPool'] = df_cleaned['hasSwimmingPool'].fillna(0) # filling missing values (NaNs) in hasSwimmingPool with 0\n",
    "df_cleaned['swimmingPool_missing'] = df['hasSwimmingPool'].isna().astype(int) # new column that explicitly tracks which values were originally missing: 1: missing\n",
    "\n",
    "print(df_cleaned[['price', 'hasSwimmingPool', 'swimmingPool_missing']].corr(method='spearman'))"
   ]
  },
  {
   "cell_type": "code",
   "execution_count": null,
   "id": "f42fbe03",
   "metadata": {},
   "outputs": [],
   "source": [
    "# Compare Mean Price\n",
    "df_swim = df_cleaned.copy()\n",
    "df_swim['swimmingPool_filled'] = df_swim['hasSwimmingPool'].fillna(0)\n",
    "\n",
    "# Group by 0 and 1\n",
    "df_swim.groupby('swimmingPool_filled')['price'].mean()"
   ]
  },
  {
   "cell_type": "code",
   "execution_count": null,
   "id": "6c05bc66",
   "metadata": {},
   "outputs": [],
   "source": [
    "import seaborn as sns\n",
    "import matplotlib.pyplot as plt\n",
    "\n",
    "sns.boxplot(data=df_swim, x='swimmingPool_filled', y='price')\n",
    "plt.title(\"Price Distribution: With vs. Without Swimming Pool\")\n",
    "plt.xlabel(\"Has Swimming Pool (0=No, 1=Yes)\")\n",
    "plt.ylabel(\"Price\")\n",
    "plt.show()"
   ]
  },
  {
   "cell_type": "code",
   "execution_count": null,
   "id": "119c6887",
   "metadata": {},
   "outputs": [],
   "source": [
    "# statistical test: t-test\n",
    "from scipy.stats import ttest_ind\n",
    "\n",
    "has_pool = df_swim[df_swim['swimmingPool_filled'] == 1]['price']\n",
    "no_pool = df_swim[df_swim['swimmingPool_filled'] == 0]['price']\n",
    "\n",
    "t_stat, p_value = ttest_ind(has_pool, no_pool, equal_var=False, nan_policy='omit')\n",
    "print(f\"T-test p-value: {p_value}\")"
   ]
  },
  {
   "cell_type": "markdown",
   "id": "b8d67627",
   "metadata": {},
   "source": []
  }
 ],
 "metadata": {
  "kernelspec": {
   "display_name": "base",
   "language": "python",
   "name": "python3"
  },
  "language_info": {
   "codemirror_mode": {
    "name": "ipython",
    "version": 3
   },
   "file_extension": ".py",
   "mimetype": "text/x-python",
   "name": "python",
   "nbconvert_exporter": "python",
   "pygments_lexer": "ipython3",
   "version": "3.11.7"
  }
 },
 "nbformat": 4,
 "nbformat_minor": 5
}
